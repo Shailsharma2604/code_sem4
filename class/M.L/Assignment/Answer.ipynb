{
 "cells": [
  {
   "cell_type": "code",
   "execution_count": 2,
   "metadata": {},
   "outputs": [],
   "source": [
    "import pandas as pd\n"
   ]
  },
  {
   "cell_type": "code",
   "execution_count": 3,
   "metadata": {},
   "outputs": [],
   "source": [
    "cardio_base = pd.read_csv(\"cardio_base.csv\")\n",
    "cardio_alco=pd.read_csv(\"cardio_alco.csv\")"
   ]
  },
  {
   "cell_type": "code",
   "execution_count": 4,
   "metadata": {},
   "outputs": [
    {
     "data": {
      "text/html": [
       "<div>\n",
       "<style scoped>\n",
       "    .dataframe tbody tr th:only-of-type {\n",
       "        vertical-align: middle;\n",
       "    }\n",
       "\n",
       "    .dataframe tbody tr th {\n",
       "        vertical-align: top;\n",
       "    }\n",
       "\n",
       "    .dataframe thead th {\n",
       "        text-align: right;\n",
       "    }\n",
       "</style>\n",
       "<table border=\"1\" class=\"dataframe\">\n",
       "  <thead>\n",
       "    <tr style=\"text-align: right;\">\n",
       "      <th></th>\n",
       "      <th>id</th>\n",
       "      <th>age</th>\n",
       "      <th>gender</th>\n",
       "      <th>height</th>\n",
       "      <th>weight</th>\n",
       "      <th>ap_hi</th>\n",
       "      <th>ap_lo</th>\n",
       "      <th>cholesterol</th>\n",
       "      <th>smoke</th>\n",
       "    </tr>\n",
       "  </thead>\n",
       "  <tbody>\n",
       "    <tr>\n",
       "      <th>0</th>\n",
       "      <td>0</td>\n",
       "      <td>18393</td>\n",
       "      <td>2</td>\n",
       "      <td>168</td>\n",
       "      <td>62.0</td>\n",
       "      <td>110</td>\n",
       "      <td>80</td>\n",
       "      <td>1</td>\n",
       "      <td>0</td>\n",
       "    </tr>\n",
       "    <tr>\n",
       "      <th>1</th>\n",
       "      <td>1</td>\n",
       "      <td>20228</td>\n",
       "      <td>1</td>\n",
       "      <td>156</td>\n",
       "      <td>85.0</td>\n",
       "      <td>140</td>\n",
       "      <td>90</td>\n",
       "      <td>3</td>\n",
       "      <td>0</td>\n",
       "    </tr>\n",
       "    <tr>\n",
       "      <th>2</th>\n",
       "      <td>2</td>\n",
       "      <td>18857</td>\n",
       "      <td>1</td>\n",
       "      <td>165</td>\n",
       "      <td>64.0</td>\n",
       "      <td>130</td>\n",
       "      <td>70</td>\n",
       "      <td>3</td>\n",
       "      <td>0</td>\n",
       "    </tr>\n",
       "    <tr>\n",
       "      <th>3</th>\n",
       "      <td>3</td>\n",
       "      <td>17623</td>\n",
       "      <td>2</td>\n",
       "      <td>169</td>\n",
       "      <td>82.0</td>\n",
       "      <td>150</td>\n",
       "      <td>100</td>\n",
       "      <td>1</td>\n",
       "      <td>0</td>\n",
       "    </tr>\n",
       "    <tr>\n",
       "      <th>4</th>\n",
       "      <td>4</td>\n",
       "      <td>17474</td>\n",
       "      <td>1</td>\n",
       "      <td>156</td>\n",
       "      <td>56.0</td>\n",
       "      <td>100</td>\n",
       "      <td>60</td>\n",
       "      <td>1</td>\n",
       "      <td>0</td>\n",
       "    </tr>\n",
       "    <tr>\n",
       "      <th>...</th>\n",
       "      <td>...</td>\n",
       "      <td>...</td>\n",
       "      <td>...</td>\n",
       "      <td>...</td>\n",
       "      <td>...</td>\n",
       "      <td>...</td>\n",
       "      <td>...</td>\n",
       "      <td>...</td>\n",
       "      <td>...</td>\n",
       "    </tr>\n",
       "    <tr>\n",
       "      <th>69995</th>\n",
       "      <td>99993</td>\n",
       "      <td>19240</td>\n",
       "      <td>2</td>\n",
       "      <td>168</td>\n",
       "      <td>76.0</td>\n",
       "      <td>120</td>\n",
       "      <td>80</td>\n",
       "      <td>1</td>\n",
       "      <td>1</td>\n",
       "    </tr>\n",
       "    <tr>\n",
       "      <th>69996</th>\n",
       "      <td>99995</td>\n",
       "      <td>22601</td>\n",
       "      <td>1</td>\n",
       "      <td>158</td>\n",
       "      <td>126.0</td>\n",
       "      <td>140</td>\n",
       "      <td>90</td>\n",
       "      <td>2</td>\n",
       "      <td>0</td>\n",
       "    </tr>\n",
       "    <tr>\n",
       "      <th>69997</th>\n",
       "      <td>99996</td>\n",
       "      <td>19066</td>\n",
       "      <td>2</td>\n",
       "      <td>183</td>\n",
       "      <td>105.0</td>\n",
       "      <td>180</td>\n",
       "      <td>90</td>\n",
       "      <td>3</td>\n",
       "      <td>0</td>\n",
       "    </tr>\n",
       "    <tr>\n",
       "      <th>69998</th>\n",
       "      <td>99998</td>\n",
       "      <td>22431</td>\n",
       "      <td>1</td>\n",
       "      <td>163</td>\n",
       "      <td>72.0</td>\n",
       "      <td>135</td>\n",
       "      <td>80</td>\n",
       "      <td>1</td>\n",
       "      <td>0</td>\n",
       "    </tr>\n",
       "    <tr>\n",
       "      <th>69999</th>\n",
       "      <td>99999</td>\n",
       "      <td>20540</td>\n",
       "      <td>1</td>\n",
       "      <td>170</td>\n",
       "      <td>72.0</td>\n",
       "      <td>120</td>\n",
       "      <td>80</td>\n",
       "      <td>2</td>\n",
       "      <td>0</td>\n",
       "    </tr>\n",
       "  </tbody>\n",
       "</table>\n",
       "<p>70000 rows × 9 columns</p>\n",
       "</div>"
      ],
      "text/plain": [
       "          id    age  gender  height  weight  ap_hi  ap_lo  cholesterol  smoke\n",
       "0          0  18393       2     168    62.0    110     80            1      0\n",
       "1          1  20228       1     156    85.0    140     90            3      0\n",
       "2          2  18857       1     165    64.0    130     70            3      0\n",
       "3          3  17623       2     169    82.0    150    100            1      0\n",
       "4          4  17474       1     156    56.0    100     60            1      0\n",
       "...      ...    ...     ...     ...     ...    ...    ...          ...    ...\n",
       "69995  99993  19240       2     168    76.0    120     80            1      1\n",
       "69996  99995  22601       1     158   126.0    140     90            2      0\n",
       "69997  99996  19066       2     183   105.0    180     90            3      0\n",
       "69998  99998  22431       1     163    72.0    135     80            1      0\n",
       "69999  99999  20540       1     170    72.0    120     80            2      0\n",
       "\n",
       "[70000 rows x 9 columns]"
      ]
     },
     "execution_count": 4,
     "metadata": {},
     "output_type": "execute_result"
    }
   ],
   "source": [
    "cardio_base"
   ]
  },
  {
   "cell_type": "markdown",
   "metadata": {},
   "source": [
    "calculate age as round down how much heavier is the age grp with heaviest average weight than the age grp with the lowest weight using pandas"
   ]
  },
  {
   "cell_type": "code",
   "execution_count": 5,
   "metadata": {},
   "outputs": [
    {
     "name": "stdout",
     "output_type": "stream",
     "text": [
      "16.873720760233923\n"
     ]
    }
   ],
   "source": [
    "cardio_base['age_years'] = (cardio_base['age'] / 365).apply(lambda x: int(x))\n",
    "avg_weight_by_age = cardio_base.groupby('age_years')['weight'].mean()\n",
    "heaviest_avg_weight = avg_weight_by_age.max()\n",
    "\n",
    "lightest_avg_weight = avg_weight_by_age.min()\n",
    "weight_difference = heaviest_avg_weight - lightest_avg_weight\n",
    "print(weight_difference)"
   ]
  },
  {
   "cell_type": "code",
   "execution_count": 6,
   "metadata": {},
   "outputs": [
    {
     "data": {
      "text/plain": [
       "59.0"
      ]
     },
     "execution_count": 6,
     "metadata": {},
     "output_type": "execute_result"
    }
   ],
   "source": [
    "lightest_avg_weight"
   ]
  },
  {
   "cell_type": "markdown",
   "metadata": {},
   "source": [
    "do people over 50 have higher cholestrol  levels than rest how to find"
   ]
  },
  {
   "cell_type": "code",
   "execution_count": 7,
   "metadata": {},
   "outputs": [
    {
     "name": "stdout",
     "output_type": "stream",
     "text": [
      "People over 50 have higher average cholesterol levels.\n"
     ]
    }
   ],
   "source": [
    "\n",
    "\n",
    "# Splitting the data into two groups\n",
    "over_50 = cardio_base[cardio_base['age_years'] > 50]\n",
    "under_50 = cardio_base[cardio_base['age_years'] <= 50]\n",
    "\n",
    "# Calculating average cholesterol levels\n",
    "avg_cholesterol_over_50 = over_50['cholesterol'].mean()\n",
    "avg_cholesterol_under_50 = under_50['cholesterol'].mean()\n",
    "\n",
    "# Comparison\n",
    "if avg_cholesterol_over_50 > avg_cholesterol_under_50:\n",
    "    print(\"People over 50 have higher average cholesterol levels.\")\n",
    "else:\n",
    "    print(\"People over 50 do not have higher average cholesterol levels.\")\n"
   ]
  },
  {
   "cell_type": "code",
   "execution_count": 8,
   "metadata": {},
   "outputs": [
    {
     "data": {
      "text/plain": [
       "1.4313608815426997"
      ]
     },
     "execution_count": 8,
     "metadata": {},
     "output_type": "execute_result"
    }
   ],
   "source": [
    "avg_cholesterol_over_50 "
   ]
  },
  {
   "cell_type": "code",
   "execution_count": 9,
   "metadata": {},
   "outputs": [
    {
     "name": "stdout",
     "output_type": "stream",
     "text": [
      "The average cholesterol level for people over 50 is 0.18332027240564375 units higher than for those 50 and under.\n"
     ]
    }
   ],
   "source": [
    "difference = avg_cholesterol_over_50 - avg_cholesterol_under_50\n",
    "# Output the result\n",
    "print(f\"The average cholesterol level for people over 50 is {difference} units higher than for those 50 and under.\")"
   ]
  },
  {
   "cell_type": "markdown",
   "metadata": {},
   "source": [
    "How many times more likely are men to be smokers compared to women, according to dataset?"
   ]
  },
  {
   "cell_type": "code",
   "execution_count": 22,
   "metadata": {},
   "outputs": [
    {
     "name": "stdout",
     "output_type": "stream",
     "text": [
      "21.88802615447487\n",
      "1.7856358444981333\n",
      "Men are 12.26 times more likely to be smokers than women.\n"
     ]
    }
   ],
   "source": [
    "# Define identifiers for gender\n",
    "male_identifier = 2\n",
    "female_identifier = 1\n",
    "\n",
    "# Calculate smoking rates\n",
    "male_smoking_rate = cardio_base[cardio_base['gender'] == male_identifier]['smoke'].mean()\n",
    "female_smoking_rate = cardio_base[cardio_base['gender'] == female_identifier]['smoke'].mean()\n",
    "\n",
    "# Calculate the ratio\n",
    "if female_smoking_rate > 0:\n",
    "    smoking_ratio = male_smoking_rate / female_smoking_rate\n",
    "    print(male_smoking_rate*100)\n",
    "    print(female_smoking_rate*100)\n",
    "    print(f\"Men are {smoking_ratio:.2f} times more likely to be smokers than women.\")\n",
    "else:\n",
    "    print(\"Cannot calculate the ratio as the female smoking rate is 0.\")"
   ]
  },
  {
   "cell_type": "markdown",
   "metadata": {},
   "source": [
    "how tall are  the tallest 1% of people?"
   ]
  },
  {
   "cell_type": "code",
   "execution_count": 23,
   "metadata": {},
   "outputs": [
    {
     "data": {
      "text/plain": [
       "184.0"
      ]
     },
     "execution_count": 23,
     "metadata": {},
     "output_type": "execute_result"
    }
   ],
   "source": [
    "# Calculate the 99th percentile of height\n",
    "tallest_1_percent_height = cardio_base['height'].quantile(0.99)\n",
    "tallest_1_percent_height"
   ]
  },
  {
   "cell_type": "markdown",
   "metadata": {},
   "source": [
    "what percentage of people  are more than 2 standard deviation far away from the avg height"
   ]
  },
  {
   "cell_type": "code",
   "execution_count": 24,
   "metadata": {},
   "outputs": [
    {
     "name": "stdout",
     "output_type": "stream",
     "text": [
      "164.35922857142856\n",
      "8.210126364538038\n"
     ]
    }
   ],
   "source": [
    "mean_height = cardio_base['height'].mean()\n",
    "std_dev_height = cardio_base['height'].std()\n",
    "print(mean_height)\n",
    "print(std_dev_height)"
   ]
  },
  {
   "cell_type": "markdown",
   "metadata": {},
   "source": [
    "### less the std more N.D. "
   ]
  },
  {
   "cell_type": "code",
   "execution_count": 25,
   "metadata": {},
   "outputs": [
    {
     "name": "stdout",
     "output_type": "stream",
     "text": [
      "147.93897584235248\n",
      "180.77948130050464\n"
     ]
    }
   ],
   "source": [
    "lower_bound = mean_height - 2 * std_dev_height\n",
    "upper_bound = mean_height + 2 * std_dev_height\n",
    "print(lower_bound)\n",
    "print(upper_bound)"
   ]
  },
  {
   "cell_type": "code",
   "execution_count": 29,
   "metadata": {},
   "outputs": [
    {
     "name": "stdout",
     "output_type": "stream",
     "text": [
      "139.72884947781444\n",
      "188.98960766504268\n"
     ]
    }
   ],
   "source": [
    "lower_bound = mean_height - 3 * std_dev_height\n",
    "upper_bound = mean_height + 3 * std_dev_height\n",
    "print(lower_bound)\n",
    "print(upper_bound)"
   ]
  },
  {
   "cell_type": "code",
   "execution_count": 28,
   "metadata": {},
   "outputs": [
    {
     "name": "stdout",
     "output_type": "stream",
     "text": [
      "          id    age  gender  height  weight  ap_hi  ap_lo  cholesterol  smoke  \\\n",
      "14        23  14532       2     181    95.0    130     90            1      1   \n",
      "62        81  20330       2     187   115.0    130     90            1      0   \n",
      "76       105  20397       2     188   105.0    120     80            1      0   \n",
      "94       127  15946       2     185    88.0    133     89            2      0   \n",
      "103      138  18128       2     183    95.0    125     80            1      1   \n",
      "...      ...    ...     ...     ...     ...    ...    ...          ...    ...   \n",
      "69913  99862  18748       2     186   101.0    110     80            3      0   \n",
      "69934  99901  15843       1     143    70.0    120     90            2      0   \n",
      "69975  99963  21264       2     182   100.0    120     80            1      0   \n",
      "69981  99972  17500       2     182   110.0    130     90            2      0   \n",
      "69997  99996  19066       2     183   105.0    180     90            3      0   \n",
      "\n",
      "       age_years  \n",
      "14            39  \n",
      "62            55  \n",
      "76            55  \n",
      "94            43  \n",
      "103           49  \n",
      "...          ...  \n",
      "69913         51  \n",
      "69934         43  \n",
      "69975         58  \n",
      "69981         47  \n",
      "69997         52  \n",
      "\n",
      "[2335 rows x 10 columns]\n",
      "2335\n",
      "70000\n",
      "3.3357142857142854\n"
     ]
    }
   ],
   "source": [
    "outliers = cardio_base[(cardio_base['height'] < lower_bound) | (cardio_base['height'] > upper_bound)]\n",
    "percentage_outliers = (len(outliers) / len(cardio_base)) * 100\n",
    "print(outliers)\n",
    "print(len(outliers))\n",
    "print(len(cardio_base))\n",
    "print(percentage_outliers)"
   ]
  },
  {
   "attachments": {
    "Bell-Curve-Standard-Deviation.jpg": {
     "image/jpeg": "[encoded data removed]"
    }
   },
   "cell_type": "markdown",
   "metadata": {},
   "source": [
    "![Bell-Curve-Standard-Deviation.jpg](attachment:Bell-Curve-Standard-Deviation.jpg)"
   ]
  },
  {
   "cell_type": "code",
   "execution_count": 15,
   "metadata": {},
   "outputs": [
    {
     "name": "stdout",
     "output_type": "stream",
     "text": [
      "The percentage of people more than 2 standard deviations away from the average height is 3.3357142857142854%.\n"
     ]
    }
   ],
   "source": [
    "print(f\"The percentage of people more than 2 standard deviations away from the average height is {percentage_outliers}%.\")"
   ]
  },
  {
   "cell_type": "markdown",
   "metadata": {},
   "source": [
    "find out what percentage of the population over 50 years old consume alcohol. ignore those where we have no alcohol consumption"
   ]
  },
  {
   "cell_type": "code",
   "execution_count": 16,
   "metadata": {},
   "outputs": [
    {
     "name": "stdout",
     "output_type": "stream",
     "text": [
      "The percentage of the population over 50 years old that consumes alcohol is 4.908607691056028%.\n"
     ]
    }
   ],
   "source": [
    "merged_data = pd.merge(cardio_base, cardio_alco, on='id')\n",
    "over_50 = merged_data[merged_data['age_years'] > 50]\n",
    "over_50_alcohol_consumers = over_50[over_50['alco'] > 0]  # Assuming 'alcohol' > 0 means known alcohol consumption\n",
    "percentage_over_50_alcohol_consumers = (len(over_50_alcohol_consumers) / len(over_50)) * 100\n",
    "print(f\"The percentage of the population over 50 years old that consumes alcohol is {percentage_over_50_alcohol_consumers}%.\")"
   ]
  },
  {
   "cell_type": "markdown",
   "metadata": {},
   "source": [
    "**Smokers have higher blood pressure than non-smokers:**\n",
    "\n",
    "Systolic Blood Pressure (ap_hi): p-value = 0.7368806768046336\n",
    "\n",
    "Diastolic Blood Pressure (ap_lo): p-value = 0.624316601008065\n",
    "\n",
    "Interpretation: Since both p-values are greater than 0.05, there is no statistically significant difference in either systolic or diastolic blood pressure between smokers and non-smokers at the 95% confidence level.\n",
    "\n",
    "**Men have higher blood pressure than women:**\n",
    "\n",
    "Systolic Blood Pressure: p-value = 0.12029169236848608\n",
    "\n",
    "Diastolic Blood Pressure: p-value = 0.010735386494106791\n",
    "\n",
    "Interpretation: The p-value for diastolic blood pressure is less than 0.05, indicating a statistically significant difference at the 95% confidence level, with men having higher diastolic blood pressure. However, for systolic blood pressure, the difference is not statistically significant.\n",
    "\n",
    "**Smokers have higher cholesterol levels than non-smokers:**\n",
    "\n",
    "p-value = 0.013250800800403608\n",
    "\n",
    "Interpretation: The p-value is less than 0.05, indicating that there is a statistically significant difference in cholesterol levels between smokers and non-smokers at the 95% confidence level, with smokers having higher cholesterol levels.\n",
    "\n",
    "\n",
    "**Smokers weigh less than non-smokers:**\n",
    "\n",
    "p-value = 2.3936615856960592e-61\n",
    "\n",
    "Interpretation: This extremely small p-value indicates a statistically significant difference in weight between smokers and non-smokers at the 95% confidence level, with smokers weighing less."
   ]
  },
  {
   "cell_type": "code",
   "execution_count": 40,
   "metadata": {},
   "outputs": [],
   "source": [
    "# ! pip install scipy\n",
    "import scipy.stats as stats"
   ]
  },
  {
   "attachments": {
    "p-value.jpg": {
     "image/jpeg": "[encoded data removed]"
    },
    "screenshot_2022-04-01_1346101874795892497383888.png": {
     "image/png": "[encoded data removed]"
    }
   },
   "cell_type": "markdown",
   "metadata": {},
   "source": [
    "![p-value.jpg](attachment:p-value.jpg)\n",
    "\n",
    "![screenshot_2022-04-01_1346101874795892497383888.png](attachment:screenshot_2022-04-01_1346101874795892497383888.png)"
   ]
  },
  {
   "cell_type": "code",
   "execution_count": 54,
   "metadata": {},
   "outputs": [
    {
     "data": {
      "text/plain": [
       "(0.7368806768046336,\n",
       " 0.624316601008065,\n",
       " 0.12029169236848608,\n",
       " 0.010735386494106791,\n",
       " 0.013250800800403608,\n",
       " 2.3936615856960592e-61)"
      ]
     },
     "execution_count": 54,
     "metadata": {},
     "output_type": "execute_result"
    }
   ],
   "source": [
    "# Analysis 1: Blood pressure comparison between smokers and non-smokers\n",
    "smokers_bp = merged_data[merged_data['smoke'] == 1][['ap_hi', 'ap_lo']]\n",
    "non_smokers_bp = merged_data[merged_data['smoke'] == 0][['ap_hi', 'ap_lo']]\n",
    "\n",
    "# Independent t-tests for systolic (ap_hi) and diastolic (ap_lo) blood pressure\n",
    "t_stat_bp_hi, p_val_bp_hi = stats.ttest_ind(smokers_bp['ap_hi'], non_smokers_bp['ap_hi'])\n",
    "t_stat_bp_lo, p_val_bp_lo = stats.ttest_ind(smokers_bp['ap_lo'], non_smokers_bp['ap_lo'])\n",
    "\n",
    "# Analysis 2: Blood pressure comparison between men and women\n",
    "men_bp = merged_data[merged_data['gender'] == 2][['ap_hi', 'ap_lo']]\n",
    "women_bp = merged_data[merged_data['gender'] == 1][['ap_hi', 'ap_lo']]\n",
    "\n",
    "t_stat_gender_hi, p_val_gender_hi = stats.ttest_ind(men_bp['ap_hi'], women_bp['ap_hi'])\n",
    "t_stat_gender_lo, p_val_gender_lo = stats.ttest_ind(men_bp['ap_lo'], women_bp['ap_lo'])\n",
    "\n",
    "# Analysis 3: Cholesterol comparison between smokers and non-smokers\n",
    "smokers_cholesterol = merged_data[merged_data['smoke'] == 1]['cholesterol']\n",
    "non_smokers_cholesterol = merged_data[merged_data['smoke'] == 0]['cholesterol']\n",
    "\n",
    "t_stat_cholesterol, p_val_cholesterol = stats.ttest_ind(smokers_cholesterol, non_smokers_cholesterol)\n",
    "\n",
    "# Analysis 4: Weight comparison between smokers and non-smokers\n",
    "smokers_weight = merged_data[merged_data['smoke'] == 1]['weight']\n",
    "non_smokers_weight = merged_data[merged_data['smoke'] == 0]['weight']\n",
    "\n",
    "t_stat_weight, p_val_weight = stats.ttest_ind(smokers_weight, non_smokers_weight)\n",
    "\n",
    "(p_val_bp_hi, p_val_bp_lo, p_val_gender_hi, p_val_gender_lo, p_val_cholesterol, p_val_weight)\n"
   ]
  },
  {
   "cell_type": "code",
   "execution_count": 49,
   "metadata": {},
   "outputs": [
    {
     "name": "stdout",
     "output_type": "stream",
     "text": [
      "       ap_hi  ap_lo\n",
      "6        130     80\n",
      "26       140     90\n",
      "27       180     90\n",
      "35       150    100\n",
      "71       125     80\n",
      "...      ...    ...\n",
      "56829    140    100\n",
      "56845    120     80\n",
      "56886    130     80\n",
      "56889    110     70\n",
      "56893    120     80\n",
      "\n",
      "[5039 rows x 2 columns]\n",
      "       ap_hi  ap_lo\n",
      "0        110     70\n",
      "1        130     85\n",
      "2        140     90\n",
      "3        120     80\n",
      "4        120     80\n",
      "...      ...    ...\n",
      "56898    130     90\n",
      "56899    130     90\n",
      "56900    120     80\n",
      "56901    120     80\n",
      "56902    140     80\n",
      "\n",
      "[51864 rows x 2 columns]\n",
      "Finished Analysis 1\n"
     ]
    }
   ],
   "source": [
    "print(smokers_bp)\n",
    "print(non_smokers_bp)"
   ]
  },
  {
   "cell_type": "code",
   "execution_count": 53,
   "metadata": {},
   "outputs": [
    {
     "name": "stdout",
     "output_type": "stream",
     "text": [
      "-0.3359886334251424\n",
      "0.48974449338740494\n",
      "0.7368806768046336\n",
      "0.624316601008065\n",
      "Finished Analysis 1\n"
     ]
    }
   ],
   "source": [
    "print(t_stat_bp_hi)\n",
    "print(t_stat_bp_lo)\n",
    "print(p_val_bp_hi)\n",
    "print(p_val_bp_lo)\n",
    "print(\"Finished Analysis 1\")"
   ]
  },
  {
   "cell_type": "code",
   "execution_count": 51,
   "metadata": {},
   "outputs": [
    {
     "name": "stdout",
     "output_type": "stream",
     "text": [
      "       ap_hi  ap_lo\n",
      "2        140     90\n",
      "4        120     80\n",
      "6        130     80\n",
      "10       140     90\n",
      "11       120     60\n",
      "...      ...    ...\n",
      "56894    160     90\n",
      "56896    140     90\n",
      "56899    130     90\n",
      "56900    120     80\n",
      "56901    120     80\n",
      "\n",
      "[19954 rows x 2 columns]\n",
      "       ap_hi  ap_lo\n",
      "0        110     70\n",
      "1        130     85\n",
      "3        120     80\n",
      "5        130     90\n",
      "7        140     90\n",
      "...      ...    ...\n",
      "56892    120     80\n",
      "56895    130     70\n",
      "56897    110     75\n",
      "56898    130     90\n",
      "56902    140     80\n",
      "\n",
      "[36949 rows x 2 columns]\n"
     ]
    }
   ],
   "source": [
    "print(men_bp)\n",
    "print(women_bp)"
   ]
  },
  {
   "cell_type": "code",
   "execution_count": 52,
   "metadata": {},
   "outputs": [
    {
     "name": "stdout",
     "output_type": "stream",
     "text": [
      "-0.3359886334251424\n",
      "0.48974449338740494\n",
      "0.12029169236848608\n",
      "0.010735386494106791\n",
      "Finished Analysis 2\n"
     ]
    }
   ],
   "source": [
    "print(t_stat_bp_hi)\n",
    "print(t_stat_bp_lo)\n",
    "print(p_val_gender_hi)\n",
    "print(p_val_gender_lo)\n",
    "print(\"Finished Analysis 2\")"
   ]
  },
  {
   "cell_type": "code",
   "execution_count": null,
   "metadata": {},
   "outputs": [],
   "source": []
  }
 ],
 "metadata": {
  "kernelspec": {
   "display_name": "cardio_env",
   "language": "python",
   "name": "python3"
  },
  "language_info": {
   "codemirror_mode": {
    "name": "ipython",
    "version": 3
   },
   "file_extension": ".py",
   "mimetype": "text/x-python",
   "name": "python",
   "nbconvert_exporter": "python",
   "pygments_lexer": "ipython3",
   "version": "3.11.5"
  }
 },
 "nbformat": 4,
 "nbformat_minor": 2
}
