{
 "cells": [
  {
   "cell_type": "code",
   "execution_count": 3,
   "metadata": {},
   "outputs": [],
   "source": [
    "# !pip install scikit-learn\n",
    "\n",
    "from sklearn.preprocessing import FunctionTransformer,PowerTransformer,OneHotEncoder\n",
    "import numpy as np\n",
    "from sklearn.linear_model import LogisticRegression\n",
    "from sklearn.pipeline import Pipeline"
   ]
  },
  {
   "cell_type": "markdown",
   "metadata": {},
   "source": [
    "### sklearn.preprocessing.FunctionTransformer"
   ]
  },
  {
   "cell_type": "markdown",
   "metadata": {},
   "source": [
    "#### A FunctionTransformer forwards its X (and optionally y) arguments to a user-defined function or function object and returns the result of this function. This is useful for stateless transformations such as taking the log of frequencies, doing custom scaling, etc."
   ]
  },
  {
   "cell_type": "code",
   "execution_count": null,
   "metadata": {},
   "outputs": [],
   "source": [
    "log_transformer = FunctionTransformer(func=np.log, inverse_func=np.exp)\n",
    "reciprocal_transformer = FunctionTransformer(func=np.reciprocal)\n",
    "boxcox_transformer = PowerTransformer(method=\"box-cox\",standardize=False)\n",
    "\n",
    "transformations = [\n",
    "    (\"log\",log_transformer),\n",
    "    (\"reciprocal\",reciprocal_transformer),\n",
    "    (\"boxcox\",boxcox_transformer)\n",
    "]\n",
    "\n",
    "X = train_data[num_column]\n",
    "y= train_data[\"smoking\"]\n",
    "\n",
    "transform_scores = {}\n",
    "\n",
    "n_splits=5\n",
    "kf = KFold(n_splits=n_splits,shuffle=True,random_state=42)\n",
    "\n",
    "logistic_model = LogisticRegression()\n",
    "\n",
    "X_copy = X\n",
    "y_copy = y\n",
    "\n",
    "X_train, X_test, y_train, y_test = train_test_split(X_copy,y_copy, test_size=0.2,random_state=42)\n",
    "\n",
    "for name, transformation in transformations:\n",
    "    if name == \"boxcox\":\n",
    "        # Fit the PowerTransformer object with the entire dataset\n",
    "        transformation.fit(X_train)\n",
    "\n",
    "        # Set the output format to pandas dataframe\n",
    "        transformation.set_output(transform=\"pandas\")\n",
    "\n",
    "        # Transform the entire dataset using the fitted PowerTransformer object\n",
    "        X_train_transformed = transformation.transform(X_train)\n",
    "    else:\n",
    "        # Transform the entire dataset using the other transformations\n",
    "        X_train_transformed = transformation.transform(X_train)\n",
    "\n",
    "    auc_scores=[]\n",
    "\n",
    "    for train_index, val_index in kf.split(X_train_transformed,y_train):\n",
    "        X_train_fold, X_val_fold= X_train_transformed.iloc[train_index],X_train_transformed.iloc[val_index]\n",
    "        y_train_fold,y_val_fold = y_train.iloc[train_index], y_train.iloc[val_index]\n",
    "\n",
    "        logistic_model.fit(X_train_fold,y_train_fold)\n",
    "\n",
    "        y_pred = logistic_model.predict_proba(X_val_fold)[:,1]\n",
    "        auc_scores.append(roc_auc_score(y_val_fold,y_pred))\n",
    "        # print(auc_scores)\n",
    "\n",
    "    mean_auc_scores = np.mean(auc_scores)\n",
    "    print(mean_auc_scores)\n",
    "    transform_scores[f\"{name}\"]=mean_auc_scores\n",
    "\n",
    "best_transformation =max(transform_scores,key=transform_scores.get)\n",
    "\n",
    "best_auc_score = transform_scores[best_transformation]"
   ]
  },
  {
   "cell_type": "code",
   "execution_count": null,
   "metadata": {},
   "outputs": [],
   "source": [
    "preprocessor = ColumnTransformer(transformers=[\n",
    "    (\"numeric\",log_transformer,num_column),\n",
    "    (\"categorical\",OneHotEncoder(sparse=False),cat_col)\n",
    "])\n",
    "\n",
    "train_data_preprocessed = preprocessor.fit_transform(train_data_model)\n",
    "cat_features_name = preprocessor.named_transformers_['categorical'].get_feature_names_out(cat_col)\n",
    "\n",
    "cat_features_name= (cat_features_name.tolist())\n",
    "column_names = (num_column.to_list()+cat_features_name)\n",
    "\n",
    "train_data_preprocessed_df = pd.DataFrame(train_data_preprocessed, columns=column_names)\n",
    "\n",
    "X = train_data_preprocessed_df\n",
    "y=train_data_model['smoking']\n",
    "\n",
    "X_train, X_test,y_train,y_test = train_test_split(X,y,test_size=0.2 ,random_state=42)\n",
    "\n",
    "\n",
    "models = {\n",
    "    \"RandomForest\":RandomForestClassifier(),\n",
    "    \"DecisionTree\":DecisionTreeClassifier(),\n",
    "    \"LogisticRegression\":LogisticRegression()\n",
    "}\n",
    "\n",
    "n_splits=5\n",
    "kf = KFold(n_splits=n_splits,shuffle=True,random_state=42)\n",
    "\n",
    "\n",
    "\n",
    "results_list = []\n",
    "\n",
    "mean_auc_scores = {}\n",
    "\n",
    "\n",
    "\n",
    "for model_name, model in models.items():\n",
    "    auc_scores = []\n",
    "    for fold_index, (train_index,val_index) in enumerate(kf.split(X_train,y_train),1):\n",
    "        X_train_fold,X_val = X_train.iloc[train_index],X_train.iloc[val_index]\n",
    "        y_train_fold,y_val = y_train.iloc[train_index],y_train.iloc[val_index]\n",
    "\n",
    "        model.fit(X_train_fold,y_train_fold)\n",
    "\n",
    "        y_pred_proba = model.predict_proba(X_val)[:,1]\n",
    "\n",
    "        fpr,tpr,threshold = roc_curve(y_val,y_pred_proba)\n",
    "        auc1 = roc_auc_score(y_val,y_pred_proba)\n",
    "        auc_scores.append(auc1)\n",
    "\n",
    "        precision = precision_score(y_val,model.predict(X_val))\n",
    "        recall = recall_score(y_val,model.predict(X_val))\n",
    "        accuracy = accuracy_score(y_val,model.predict(X_val))\n",
    "\n",
    "        # results = results.append({\"Model\":model_name,\"Fold\":fold_index,\"AUC\":auc1,\"Precision\":precision,\"Recall\":recall,\"Accuracy\":accuracy},ignore_index=True)\n",
    "        results_list.append([model_name,fold_index,auc1,precision,recall,accuracy])\n",
    "    mean_auc = np.mean(auc_scores)\n",
    "    mean_auc_scores[model_name] = mean_auc\n",
    "\n",
    "results = pd.DataFrame(results_list,columns=['Model','Fold','AUC','Precision','Recall','Accuracy'])\n",
    "\n",
    "print(results)"
   ]
  },
  {
   "cell_type": "code",
   "execution_count": null,
   "metadata": {},
   "outputs": [],
   "source": [
    "pipeline = Pipeline(steps=[\n",
    "    (\"preprocessor\",preprocessor),\n",
    "    (\"model\",best_model)\n",
    "])"
   ]
  },
  {
   "cell_type": "markdown",
   "metadata": {},
   "source": [
    "Key Differences for ColumnTransfomer and Pipeline\n",
    "\n",
    "Scope: The primary difference lies in their scope. Pipeline is broader and can encapsulate an entire workflow of data transformation and model application, while ColumnTransformer is focused on applying specific transformations to columns within a dataset.\n",
    "\n",
    "Flexibility in Data Processing: ColumnTransformer provides the flexibility to apply different preprocessing techniques to different columns within a dataset, which is not inherently the focus of a Pipeline.\n",
    "\n",
    "Integration: ColumnTransformer is often used as a step within a Pipeline, especially when different transformations are required for different types of data within the dataset. On the other hand, a Pipeline is used to streamline the entire process from data preprocessing to model training and prediction."
   ]
  },
  {
   "cell_type": "markdown",
   "metadata": {},
   "source": [
    "FunctionTransformer allows for custom, user-defined transformations to be seamlessly integrated into scikit-learn pipelines, while ColumnTransformer provides a structured way to apply different preprocessing steps to different columns based on their data type or specific requirements. "
   ]
  },
  {
   "cell_type": "markdown",
   "metadata": {},
   "source": []
  }
 ],
 "metadata": {
  "kernelspec": {
   "display_name": "cardio_env",
   "language": "python",
   "name": "python3"
  },
  "language_info": {
   "codemirror_mode": {
    "name": "ipython",
    "version": 3
   },
   "file_extension": ".py",
   "mimetype": "text/x-python",
   "name": "python",
   "nbconvert_exporter": "python",
   "pygments_lexer": "ipython3",
   "version": "3.11.5"
  }
 },
 "nbformat": 4,
 "nbformat_minor": 2
}
