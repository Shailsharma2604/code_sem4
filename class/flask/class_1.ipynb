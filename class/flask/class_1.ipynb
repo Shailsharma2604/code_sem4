{
 "cells": [
  {
   "cell_type": "code",
   "execution_count": 1,
   "metadata": {},
   "outputs": [
    {
     "name": "stdout",
     "output_type": "stream",
     "text": [
      "Hello Frost\n",
      "Hello Frost\n",
      "<class 'NoneType'>\n",
      "<class '__main__.Person'>\n"
     ]
    }
   ],
   "source": [
    "class Person:\n",
    "    def __init__(self, name, age):\n",
    "        self.name = name\n",
    "        self.age = age\n",
    "        \n",
    "    def myfun(self):\n",
    "        print(\"Hello \" + self.name)\n",
    "        \n",
    "P1 = Person(\"Frost\", 20)\n",
    "P1.myfun()\n",
    "print(type(P1.myfun()))\n",
    "print(type(P1))"
   ]
  },
  {
   "cell_type": "code",
   "execution_count": 2,
   "metadata": {},
   "outputs": [
    {
     "name": "stdout",
     "output_type": "stream",
     "text": [
      "hello dear\n"
     ]
    }
   ],
   "source": [
    "class Person:\n",
    "    def __init__(self,fname,lname):\n",
    "        self.firstname = fname\n",
    "        self.lastname = lname\n",
    "\n",
    "    def printname(self):\n",
    "        print(self.firstname, self.lastname)\n",
    "\n",
    "y = Person(\"hello\",\"dear\")\n",
    "y.printname()"
   ]
  },
  {
   "cell_type": "code",
   "execution_count": 11,
   "metadata": {},
   "outputs": [
    {
     "name": "stdout",
     "output_type": "stream",
     "text": [
      "singh\n",
      "<class '__main__.Person'>\n",
      "<class '__main__.student2'>\n"
     ]
    }
   ],
   "source": [
    "class student2(Person):\n",
    "    pass\n",
    "student2.lastname=\"singh\"\n",
    "print(student2.lastname)\n",
    "print(Person)\n",
    "print(student2)"
   ]
  },
  {
   "cell_type": "code",
   "execution_count": 14,
   "metadata": {},
   "outputs": [],
   "source": [
    "class Student3(Person):\n",
    "    def __init__(self, fname, lname,year):\n",
    "        super().__init__(fname, lname)\n",
    "        self.graduationyear=year\n",
    "\n",
    "x= Student3(\"ram\",\"singh\",2019)"
   ]
  },
  {
   "cell_type": "code",
   "execution_count": 15,
   "metadata": {},
   "outputs": [
    {
     "name": "stdout",
     "output_type": "stream",
     "text": [
      "<__main__.Student3 object at 0x0000027272515E10>\n",
      "2019\n",
      "<__main__.Person object at 0x000002727228A080>\n"
     ]
    }
   ],
   "source": [
    "print(x)\n",
    "print(x.graduationyear)\n",
    "print(y)"
   ]
  },
  {
   "cell_type": "code",
   "execution_count": null,
   "metadata": {},
   "outputs": [],
   "source": []
  },
  {
   "cell_type": "code",
   "execution_count": 4,
   "metadata": {},
   "outputs": [
    {
     "name": "stdout",
     "output_type": "stream",
     "text": [
      "shail sharma\n"
     ]
    }
   ],
   "source": [
    "class student2(Person):\n",
    "    pass\n",
    "s1=student2(\"shail\",\"sharma\")\n",
    "s1.printname()"
   ]
  }
 ],
 "metadata": {
  "kernelspec": {
   "display_name": "Python 3",
   "language": "python",
   "name": "python3"
  },
  "language_info": {
   "codemirror_mode": {
    "name": "ipython",
    "version": 3
   },
   "file_extension": ".py",
   "mimetype": "text/x-python",
   "name": "python",
   "nbconvert_exporter": "python",
   "pygments_lexer": "ipython3",
   "version": "3.10.0"
  }
 },
 "nbformat": 4,
 "nbformat_minor": 2
}
