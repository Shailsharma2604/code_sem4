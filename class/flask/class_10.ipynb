{
 "cells": [
  {
   "cell_type": "code",
   "execution_count": null,
   "metadata": {},
   "outputs": [],
   "source": [
    "from flask import Flask, render_template, request, url_for, redirect\n",
    "from flask_sqlalchemy import SQLAlchemy\n",
    "from flask_login import LoginManager, UserMixin, login_user, logout_user\n",
    "\n",
    "app = Flask(__name__)\n",
    "app.config['SQLALCHEMY_DATABASE_URI'] = 'sqlite:///users.db'\n",
    "app.config['SECRET_KEY'] = \"abc\"\n",
    "db = SQLAlchemy()\n",
    "\n",
    "login_manager = LoginManager()\n",
    "login_manager.init_app(app)\n",
    "\n",
    "class User(UserMixin, db.Model):\n",
    "    id = db.Column(db.Integer, primary_key=True)\n",
    "    username = db.Column(db.String(100), unique=True, nullable=False)\n",
    "    password = db.Column(db.String(100), nullable=False)\n",
    "    \n",
    "db.init_app(app)\n",
    "\n",
    "# Create current instance of the app\n",
    "with app.app_context():\n",
    "    db.create_all()\n",
    "\n",
    "    \n",
    "@login_manager.user_loader\n",
    "def load_user(user_id):\n",
    "    return User.query.get(int(user_id))\n",
    "\n",
    "\n",
    "@app.route('/register', methods=['GET', 'POST'])\n",
    "def register():\n",
    "    if request.method == 'POST':        \n",
    "        user = User(username=request.form.get(\"username\"), \n",
    "                    password=request.form.get(\"password\"))\n",
    "        db.session.add(user)\n",
    "        db.session.commit()\n",
    "        return redirect(url_for('login'))\n",
    "    return render_template('sign_up.html')\n",
    "\n",
    "\n",
    "@app.route('/login', methods=['GET', 'POST'])\n",
    "def login():\n",
    "    if request.method == 'POST':\n",
    "        user = User.query.filter_by(username=request.form.get(\"username\")).first()\n",
    "        if user.password == request.form.get(\"password\"):\n",
    "            login_user(user)\n",
    "            return redirect(url_for('home'))\n",
    "    return render_template('login.html')    \n",
    "\n",
    "\n",
    "@app.route('/logout')\n",
    "def logout():\n",
    "    logout_user()\n",
    "    return redirect(url_for('home'))\n",
    "\n",
    "\n",
    "@app.route('/')\n",
    "def home():\n",
    "    return render_template('home.html')\n",
    "\n",
    "if __name__ == '__main__':\n",
    "    app.run(debug=True)"
   ]
  },
  {
   "cell_type": "code",
   "execution_count": 3,
   "metadata": {},
   "outputs": [
    {
     "name": "stdout",
     "output_type": "stream",
     "text": [
      " * Serving Flask app '__main__'\n",
      " * Debug mode: on\n"
     ]
    },
    {
     "name": "stderr",
     "output_type": "stream",
     "text": [
      "WARNING: This is a development server. Do not use it in a production deployment. Use a production WSGI server instead.\n",
      " * Running on http://127.0.0.1:5000\n",
      "Press CTRL+C to quit\n"
     ]
    },
    {
     "name": "stderr",
     "output_type": "stream",
     "text": [
      " * Restarting with watchdog (windowsapi)\n"
     ]
    },
    {
     "ename": "SystemExit",
     "evalue": "1",
     "output_type": "error",
     "traceback": [
      "An exception has occurred, use %tb to see the full traceback.\n",
      "\u001b[1;31mSystemExit\u001b[0m\u001b[1;31m:\u001b[0m 1\n"
     ]
    },
    {
     "name": "stderr",
     "output_type": "stream",
     "text": [
      "C:\\Users\\shail sharma\\AppData\\Roaming\\Python\\Python311\\site-packages\\IPython\\core\\interactiveshell.py:3450: UserWarning: To exit: use 'exit', 'quit', or Ctrl-D.\n",
      "  warn(\"To exit: use 'exit', 'quit', or Ctrl-D.\", stacklevel=1)\n"
     ]
    }
   ],
   "source": [
    "from flask import Flask, render_template, request, url_for, redirect\n",
    "from flask_sqlalchemy import SQLAlchemy\n",
    "from flask_login import LoginManager, UserMixin, login_user, logout_user\n",
    " \n",
    "app = Flask(__name__)\n",
    "app.config[\"SQLALCHEMY_DATABASE_URI\"] = \"sqlite:///db.sqlite\"\n",
    "app.config[\"SECRET_KEY\"] = \"abc\"\n",
    "db = SQLAlchemy()\n",
    " \n",
    "login_manager = LoginManager()\n",
    "login_manager.init_app(app)\n",
    " \n",
    " \n",
    "class Users(UserMixin, db.Model):\n",
    "    id = db.Column(db.Integer, primary_key=True)\n",
    "    username = db.Column(db.String(250), unique=True, nullable=False)\n",
    "    password = db.Column(db.String(250), nullable=False)\n",
    " \n",
    " \n",
    "db.init_app(app)\n",
    " \n",
    " \n",
    "with app.app_context():\n",
    "    db.create_all()\n",
    " \n",
    " \n",
    "@login_manager.user_loader\n",
    "def loader_user(user_id):\n",
    "    return Users.query.get(user_id)\n",
    " \n",
    " \n",
    "@app.route('/sign-up', methods=[\"GET\", \"POST\"])\n",
    "def register():\n",
    "    if request.method == \"POST\":\n",
    "        user = Users(username=request.form.get(\"username\"),\n",
    "                     password=request.form.get(\"password\"))\n",
    "        db.session.add(user)\n",
    "        db.session.commit()\n",
    "        return redirect(url_for(\"login\"))\n",
    "    return render_template(\"sign-up.html\")\n",
    " \n",
    " \n",
    "@app.route(\"/login\", methods=[\"GET\", \"POST\"])\n",
    "def login():\n",
    "    if request.method == \"POST\":\n",
    "        user = Users.query.filter_by(\n",
    "            username=request.form.get(\"username\")).first()\n",
    "        if user.password == request.form.get(\"password\"):\n",
    "            login_user(user)\n",
    "            return redirect(url_for(\"home1\"))\n",
    "    return render_template(\"login.html\")\n",
    " \n",
    " \n",
    "@app.route(\"/logout\")\n",
    "def logout():\n",
    "    logout_user()\n",
    "    return redirect(url_for(\"home1\"))\n",
    " \n",
    " \n",
    "@app.route(\"/\")\n",
    "def home1():\n",
    "    return render_template(\"home1.html\")\n",
    " \n",
    " \n",
    "if __name__ == \"__main__\":\n",
    "    app.run(debug = True)"
   ]
  },
  {
   "cell_type": "code",
   "execution_count": null,
   "metadata": {},
   "outputs": [],
   "source": [
    "from flask import Flask,render_template,request\n",
    "\n",
    "import json\n",
    "\n",
    "import urllib.request\n",
    "\n",
    "app=Flask(__name__)\n",
    "\n",
    "@app.rout('/',methods=['POST','GET'])\n",
    "def weather():\n",
    "    print(\"hello\")\n",
    "    if request.method =='POST':\n",
    "        city=request.form['city']\n",
    "    else:\n",
    "        city='mathura'\n",
    "\n",
    "    api=''\n",
    "    source=urllib.request.urlopen(''+city+'&appid ='+api).read()\n",
    "    list"
   ]
  }
 ],
 "metadata": {
  "kernelspec": {
   "display_name": "Python 3",
   "language": "python",
   "name": "python3"
  },
  "language_info": {
   "codemirror_mode": {
    "name": "ipython",
    "version": 3
   },
   "file_extension": ".py",
   "mimetype": "text/x-python",
   "name": "python",
   "nbconvert_exporter": "python",
   "pygments_lexer": "ipython3",
   "version": "3.11.5"
  }
 },
 "nbformat": 4,
 "nbformat_minor": 2
}
