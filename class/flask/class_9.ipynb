{
 "cells": [
  {
   "cell_type": "code",
   "execution_count": 3,
   "metadata": {},
   "outputs": [],
   "source": [
    "from flask import Flask\n",
    "from flask_sqlalchemy import SQLAlchemy\n",
    "\n",
    "\n",
    "app = Flask(__name__)\n",
    "\n",
    "app.config['SQLALCHEMY_DATABASE_URI'] = 'sqlite:///database.db'\n",
    "\n",
    "db = SQLAlchemy(app)"
   ]
  },
  {
   "cell_type": "code",
   "execution_count": 4,
   "metadata": {},
   "outputs": [
    {
     "name": "stdout",
     "output_type": "stream",
     "text": [
      "2024-02-28 10:47:49,399 INFO sqlalchemy.engine.Engine BEGIN (implicit)\n",
      "2024-02-28 10:47:49,404 INFO sqlalchemy.engine.Engine PRAGMA main.table_info(\"student\")\n",
      "2024-02-28 10:47:49,405 INFO sqlalchemy.engine.Engine [raw sql] ()\n",
      "2024-02-28 10:47:49,413 INFO sqlalchemy.engine.Engine PRAGMA temp.table_info(\"student\")\n",
      "2024-02-28 10:47:49,414 INFO sqlalchemy.engine.Engine [raw sql] ()\n",
      "2024-02-28 10:47:49,416 INFO sqlalchemy.engine.Engine \n",
      "CREATE TABLE student (\n",
      "\t\"Id\" INTEGER NOT NULL, \n",
      "\t\"Name\" VARCHAR(255) NOT NULL, \n",
      "\t\"Major\" VARCHAR(255), \n",
      "\t\"Pass\" BOOLEAN, \n",
      "\tPRIMARY KEY (\"Id\")\n",
      ")\n",
      "\n",
      "\n",
      "2024-02-28 10:47:49,420 INFO sqlalchemy.engine.Engine [no key 0.00403s] ()\n",
      "2024-02-28 10:47:49,586 INFO sqlalchemy.engine.Engine COMMIT\n"
     ]
    }
   ],
   "source": [
    "engine = db.create_engine('sqlite:///datacamp.sqlite1', echo = True)\n",
    "conn = engine.connect()\n",
    "metadata = db.MetaData()\n",
    "\n",
    "Student = db.Table('student', metadata,\n",
    "                    db.Column('Id', db.Integer(), primary_key = True),\n",
    "                    db.Column('Name', db.String(255), nullable = False),\n",
    "                    db.Column('Major', db.String(255), default = 'Maths'),\n",
    "                    db.Column('Pass', db.Boolean(), default = True)\n",
    "                )\n",
    "metadata.create_all(engine)"
   ]
  },
  {
   "cell_type": "code",
   "execution_count": 7,
   "metadata": {},
   "outputs": [
    {
     "name": "stdout",
     "output_type": "stream",
     "text": [
      "2024-02-28 10:51:56,888 INFO sqlalchemy.engine.Engine SELECT student.\"Id\", student.\"Name\", student.\"Major\", student.\"Pass\" \n",
      "FROM student\n",
      "2024-02-28 10:51:56,890 INFO sqlalchemy.engine.Engine [generated in 0.00131s] ()\n",
      "[]\n"
     ]
    }
   ],
   "source": [
    "output = conn.execute(Student.select()).fetchall()\n",
    "print(output)"
   ]
  },
  {
   "cell_type": "code",
   "execution_count": 14,
   "metadata": {},
   "outputs": [
    {
     "name": "stdout",
     "output_type": "stream",
     "text": [
      "2024-02-28 11:00:27,127 INFO sqlalchemy.engine.Engine INSERT INTO student (\"Id\", \"Name\", \"Major\", \"Pass\") VALUES (?, ?, ?, ?)\n",
      "2024-02-28 11:00:27,128 INFO sqlalchemy.engine.Engine [cached since 452.3s ago] [(11, 'Ravi1', 'Science', 1), (21, 'Raj1', 'Maths', 0), (31, 'Rahul1', 'Arts', 1), (41, 'Rohit1', 'Science', 0)]\n"
     ]
    }
   ],
   "source": [
    "query = db.insert(Student)\n",
    "values = [{'Id':11, 'Name':'Ravi1', 'Major':'Science', 'Pass':True},\n",
    "          {'Id':21, 'Name':'Raj1', 'Major':'Maths', 'Pass':False},\n",
    "          {'Id':31, 'Name':'Rahul1', 'Major':'Arts', 'Pass':True},\n",
    "          {'Id':41, 'Name':'Rohit1', 'Major':'Science', 'Pass':False}]\n",
    "\n",
    "Result = conn.execute(query, values)"
   ]
  },
  {
   "cell_type": "code",
   "execution_count": 15,
   "metadata": {},
   "outputs": [
    {
     "name": "stdout",
     "output_type": "stream",
     "text": [
      "2024-02-28 11:00:37,648 INFO sqlalchemy.engine.Engine SELECT student.\"Id\", student.\"Name\", student.\"Major\", student.\"Pass\" \n",
      "FROM student\n",
      "2024-02-28 11:00:37,649 INFO sqlalchemy.engine.Engine [cached since 520.8s ago] ()\n",
      "[(1, 'Ravi', 'Science', True), (2, 'Raj', 'Maths', False), (3, 'Rahul', 'Arts', True), (4, 'Rohit', 'Science', False), (11, 'Ravi1', 'Science', True), (21, 'Raj1', 'Maths', False), (31, 'Rahul1', 'Arts', True), (41, 'Rohit1', 'Science', False)]\n"
     ]
    }
   ],
   "source": [
    "output = conn.execute(Student.select()).fetchall()\n",
    "print(output)"
   ]
  },
  {
   "cell_type": "code",
   "execution_count": 16,
   "metadata": {},
   "outputs": [
    {
     "name": "stdout",
     "output_type": "stream",
     "text": [
      "2024-02-28 11:01:54,500 INFO sqlalchemy.engine.Engine COMMIT\n"
     ]
    }
   ],
   "source": [
    "Result.connection.commit()\n",
    "Result.close()"
   ]
  },
  {
   "cell_type": "code",
   "execution_count": 21,
   "metadata": {},
   "outputs": [
    {
     "name": "stdout",
     "output_type": "stream",
     "text": [
      "2024-02-28 11:05:15,803 INFO sqlalchemy.engine.Engine SELECT student.\"Id\", student.\"Name\", student.\"Major\", student.\"Pass\" \n",
      "FROM student \n",
      "WHERE student.\"Major\" = ?\n",
      "2024-02-28 11:05:15,804 INFO sqlalchemy.engine.Engine [cached since 35.81s ago] ('Maths',)\n",
      "[(2, 'Raj', 'Maths', False), (21, 'Raj1', 'Maths', False)]\n"
     ]
    }
   ],
   "source": [
    "query = Student.select().where(Student.columns.Major == 'Maths')\n",
    "output = conn.execute(query).fetchall()\n",
    "print(output)"
   ]
  },
  {
   "cell_type": "code",
   "execution_count": 24,
   "metadata": {},
   "outputs": [
    {
     "name": "stdout",
     "output_type": "stream",
     "text": [
      "2024-02-28 11:11:46,791 INFO sqlalchemy.engine.Engine SELECT student.\"Id\", student.\"Name\", student.\"Major\", student.\"Pass\" \n",
      "FROM student \n",
      "WHERE student.\"Major\" = ? AND student.\"Pass\" != 1\n",
      "2024-02-28 11:11:46,793 INFO sqlalchemy.engine.Engine [generated in 0.00137s] ('Maths',)\n",
      "[(2, 'Raj', 'Maths', False), (21, 'Raj1', 'Maths', False)]\n"
     ]
    }
   ],
   "source": [
    "query = Student.select().where(db.and_(Student.columns.Major == 'Maths', Student.columns.Pass != True))\n",
    "output = conn.execute(query).fetchall()\n",
    "print(output)"
   ]
  },
  {
   "cell_type": "code",
   "execution_count": 25,
   "metadata": {},
   "outputs": [
    {
     "name": "stdout",
     "output_type": "stream",
     "text": [
      "2024-02-28 11:12:52,265 INFO sqlalchemy.engine.Engine SELECT student.\"Id\", student.\"Name\", student.\"Major\", student.\"Pass\" \n",
      "FROM student \n",
      "WHERE student.\"Major\" = ? OR student.\"Pass\" = 1\n",
      "2024-02-28 11:12:52,266 INFO sqlalchemy.engine.Engine [generated in 0.00116s] ('Maths',)\n",
      "[(1, 'Ravi', 'Science', True), (2, 'Raj', 'Maths', False), (3, 'Rahul', 'Arts', True), (11, 'Ravi1', 'Science', True), (21, 'Raj1', 'Maths', False), (31, 'Rahul1', 'Arts', True)]\n"
     ]
    }
   ],
   "source": [
    "query = Student.select().where(db.or_(Student.columns.Major == 'Maths', Student.columns.Pass == True))\n",
    "output = conn.execute(query).fetchall()\n",
    "print(output)"
   ]
  },
  {
   "cell_type": "code",
   "execution_count": 27,
   "metadata": {},
   "outputs": [
    {
     "name": "stdout",
     "output_type": "stream",
     "text": [
      "2024-02-28 11:13:35,409 INFO sqlalchemy.engine.Engine SELECT student.\"Id\", student.\"Name\", student.\"Major\", student.\"Pass\" \n",
      "FROM student \n",
      "WHERE student.\"Major\" IN (?, ?)\n",
      "2024-02-28 11:13:35,411 INFO sqlalchemy.engine.Engine [generated in 0.00456s] ('Science', 'Maths')\n",
      "[(1, 'Ravi', 'Science', True), (2, 'Raj', 'Maths', False), (4, 'Rohit', 'Science', False), (11, 'Ravi1', 'Science', True), (21, 'Raj1', 'Maths', False), (41, 'Rohit1', 'Science', False)]\n"
     ]
    }
   ],
   "source": [
    "query = Student.select().where(Student.columns.Major.in_(['Science', 'Maths']))\n",
    "output = conn.execute(query).fetchall()\n",
    "print(output)"
   ]
  },
  {
   "cell_type": "code",
   "execution_count": 32,
   "metadata": {},
   "outputs": [
    {
     "name": "stdout",
     "output_type": "stream",
     "text": [
      "2024-02-28 11:14:52,406 INFO sqlalchemy.engine.Engine SELECT student.\"Id\", student.\"Name\", student.\"Major\", student.\"Pass\" \n",
      "FROM student ORDER BY student.\"Name\" DESC\n",
      "2024-02-28 11:14:52,407 INFO sqlalchemy.engine.Engine [generated in 0.00115s] ()\n",
      "[(41, 'Rohit1', 'Science', False), (4, 'Rohit', 'Science', False), (11, 'Ravi1', 'Science', True), (1, 'Ravi', 'Science', True), (21, 'Raj1', 'Maths', False), (2, 'Raj', 'Maths', False), (31, 'Rahul1', 'Arts', True), (3, 'Rahul', 'Arts', True)]\n"
     ]
    }
   ],
   "source": [
    "query = Student.select().order_by(db.desc(Student.columns.Name))\n",
    "output = conn.execute(query).fetchall()\n",
    "print(output)"
   ]
  },
  {
   "cell_type": "code",
   "execution_count": 33,
   "metadata": {},
   "outputs": [
    {
     "name": "stdout",
     "output_type": "stream",
     "text": [
      "['Id', 'Name', 'Major', 'Pass']\n"
     ]
    }
   ],
   "source": [
    "print(Student.columns.keys())"
   ]
  },
  {
   "cell_type": "code",
   "execution_count": 37,
   "metadata": {},
   "outputs": [
    {
     "name": "stdout",
     "output_type": "stream",
     "text": [
      "Table('student', MetaData(), Column('Id', Integer(), table=<student>, primary_key=True, nullable=False), Column('Name', String(length=255), table=<student>, nullable=False), Column('Major', String(length=255), table=<student>, default=ScalarElementColumnDefault('Maths')), Column('Pass', Boolean(), table=<student>, default=ScalarElementColumnDefault(True)), schema=None)\n"
     ]
    }
   ],
   "source": [
    "print(repr(metadata.tables['student']))"
   ]
  },
  {
   "cell_type": "code",
   "execution_count": null,
   "metadata": {},
   "outputs": [],
   "source": []
  }
 ],
 "metadata": {
  "kernelspec": {
   "display_name": "Python 3",
   "language": "python",
   "name": "python3"
  },
  "language_info": {
   "codemirror_mode": {
    "name": "ipython",
    "version": 3
   },
   "file_extension": ".py",
   "mimetype": "text/x-python",
   "name": "python",
   "nbconvert_exporter": "python",
   "pygments_lexer": "ipython3",
   "version": "3.12.0"
  }
 },
 "nbformat": 4,
 "nbformat_minor": 2
}
