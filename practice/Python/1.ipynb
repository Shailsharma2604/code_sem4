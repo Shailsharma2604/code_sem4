{
 "cells": [
  {
   "cell_type": "code",
   "execution_count": 2,
   "metadata": {},
   "outputs": [
    {
     "name": "stdout",
     "output_type": "stream",
     "text": [
      "Hello World!\n",
      "5\n"
     ]
    }
   ],
   "source": [
    "print(\"Hello World!\")\n",
    "print(5) "
   ]
  },
  {
   "cell_type": "code",
   "execution_count": 7,
   "metadata": {},
   "outputs": [
    {
     "name": "stdout",
     "output_type": "stream",
     "text": [
      "8\n"
     ]
    }
   ],
   "source": [
    "a=int(input(\"pls enter the number \"))\n",
    "b=input(\"oprater you want to enter in the \")\n",
    "c=int(input(\"pls enter the second number \"))\n",
    "if(b=='+'):\n",
    "    print(a+c)\n",
    "elif (b=='-'):\n",
    "    print(a-c)\n",
    "elif(b=='*'):\n",
    "    print(a*c)\n",
    "elif(b=='/'):\n",
    "    print(a/c)\n",
    "else:\n",
    "    print(\"worng input\")"
   ]
  },
  {
   "cell_type": "code",
   "execution_count": null,
   "metadata": {},
   "outputs": [],
   "source": []
  }
 ],
 "metadata": {
  "kernelspec": {
   "display_name": "Python 3",
   "language": "python",
   "name": "python3"
  },
  "language_info": {
   "codemirror_mode": {
    "name": "ipython",
    "version": 3
   },
   "file_extension": ".py",
   "mimetype": "text/x-python",
   "name": "python",
   "nbconvert_exporter": "python",
   "pygments_lexer": "ipython3",
   "version": "3.10.0"
  }
 },
 "nbformat": 4,
 "nbformat_minor": 2
}
